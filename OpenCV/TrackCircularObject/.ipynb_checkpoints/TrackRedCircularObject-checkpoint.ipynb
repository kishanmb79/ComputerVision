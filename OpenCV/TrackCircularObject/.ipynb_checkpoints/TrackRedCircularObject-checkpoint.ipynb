{
 "cells": [
  {
   "cell_type": "code",
   "execution_count": 1,
   "metadata": {
    "collapsed": true
   },
   "outputs": [],
   "source": [
    "# import\n",
    "import cv2\n",
    "import numpy as np\n",
    "import os"
   ]
  },
  {
   "cell_type": "code",
   "execution_count": 4,
   "metadata": {
    "collapsed": true
   },
   "outputs": [],
   "source": [
    "def main():\n",
    "\n",
    "    capWebcam = cv2.VideoCapture(0)                     \n",
    "    if capWebcam.isOpened() == False:                           \n",
    "        print (\"error: capWebcam not accessed successfully\\n\\n\")         \n",
    "        os.system(\"pause\")                                              \n",
    "        return                                                         \n",
    "\n",
    "    while cv2.waitKey(1) != 27 and capWebcam.isOpened():                \n",
    "        blnFrameReadSuccessfully, imgOriginal = capWebcam.read()            \n",
    "\n",
    "        if not blnFrameReadSuccessfully or imgOriginal is None:             \n",
    "            print (\"error: frame not read from webcam\\n\")                    \n",
    "            os.system(\"pause\")                                              \n",
    "            break                                                           \n",
    "\n",
    "        imgHSV = cv2.cvtColor(imgOriginal, cv2.COLOR_BGR2HSV)\n",
    "\n",
    "        imgThreshLow = cv2.inRange(imgHSV, (0, 155, 155), (18, 255, 255))       # lower_blue = np.array([110,50,50])\n",
    "        imgThreshHigh = cv2.inRange(imgHSV, (165, 155, 155), (179, 255, 255))   # upper_blue = np.array([130,255,255])\n",
    "\n",
    "        imgThresh = cv2.add(imgThreshLow, imgThreshHigh)\n",
    "\n",
    "        imgThresh = cv2.GaussianBlur(imgThresh, (3, 3), 2)                \n",
    "\n",
    "        imgThresh = cv2.dilate(imgThresh, np.ones((5,5),np.uint8))        \n",
    "        imgThresh = cv2.erode(imgThresh, np.ones((5,5),np.uint8))         \n",
    "\n",
    "        intRows, intColumns = imgThresh.shape       \n",
    "\n",
    "        circles = cv2.HoughCircles(imgThresh, cv2.HOUGH_GRADIENT, 2, intRows / 4)     \n",
    "\n",
    "        if circles is not None:                    \n",
    "            for circle in circles[0]:                           # for each circle\n",
    "                x, y, radius = circle                                                                       \n",
    "                print (\"ball position x = \" + str(x) + \", y = \" + str(y) + \", radius = \" + str(radius))       \n",
    "                cv2.circle(imgOriginal, (x, y), 3, (0, 255, 0), cv2.FILLED)           \n",
    "                cv2.circle(imgOriginal, (x, y), radius, (0, 0, 255), 3)                    \n",
    "            # end for\n",
    "        # end if\n",
    "\n",
    "        cv2.namedWindow(\"imgOriginal\", cv2.WINDOW_AUTOSIZE)            \n",
    "        cv2.namedWindow(\"imgThresh\", cv2.WINDOW_AUTOSIZE)           \n",
    "\n",
    "        cv2.imshow(\"imgOriginal\", imgOriginal)                 \n",
    "        cv2.imshow(\"imgThresh\", imgThresh)\n",
    "    # end while\n",
    "\n",
    "    cv2.destroyAllWindows()                     \n",
    "\n",
    "    return\n"
   ]
  },
  {
   "cell_type": "code",
   "execution_count": 5,
   "metadata": {},
   "outputs": [],
   "source": [
    "if __name__ == \"__main__\":\n",
    "    main()"
   ]
  },
  {
   "cell_type": "code",
   "execution_count": null,
   "metadata": {
    "collapsed": true
   },
   "outputs": [],
   "source": []
  }
 ],
 "metadata": {
  "kernelspec": {
   "display_name": "Python 3",
   "language": "python",
   "name": "python3"
  },
  "language_info": {
   "codemirror_mode": {
    "name": "ipython",
    "version": 3
   },
   "file_extension": ".py",
   "mimetype": "text/x-python",
   "name": "python",
   "nbconvert_exporter": "python",
   "pygments_lexer": "ipython3",
   "version": "3.6.3"
  }
 },
 "nbformat": 4,
 "nbformat_minor": 2
}
