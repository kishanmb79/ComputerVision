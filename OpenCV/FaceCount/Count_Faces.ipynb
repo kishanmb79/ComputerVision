{
 "cells": [
  {
   "cell_type": "code",
   "execution_count": 27,
   "metadata": {
    "collapsed": true
   },
   "outputs": [],
   "source": [
    "# anaconda installation with python 3.6 and \n",
    "# OpenCV from https://anaconda.org/conda-forge/opencv\n",
    "# this program is run in Windows 10 on Jupyter notebook\n",
    "\n",
    "# here we will dectect and count face in an image using OpenCV and Python.\n",
    "\n",
    "# Source of reference -\n",
    "\n",
    "# https://docs.opencv.org/3.0-beta/modules/objdetect/doc/cascade_classification.html?highlight=detectmultiscale#cv2.CascadeClassifier.detectMultiScale\n",
    "# https://docs.opencv.org/3.0-beta/modules/imgproc/doc/drawing_functions.html?highlight=rectangle#puttext\n",
    "\n",
    "# https://s.ndtvimg.com/images/content/2016/jan/806/team-india-3101.jpg\n"
   ]
  },
  {
   "cell_type": "code",
   "execution_count": 28,
   "metadata": {
    "collapsed": true
   },
   "outputs": [],
   "source": [
    "# Image  TeamIndia.JPG  has 25 faces \n",
    "# however the algorithm detects 21 faces correctly \n",
    "# with 1 incorrect face and missed 4 faces"
   ]
  },
  {
   "cell_type": "code",
   "execution_count": 29,
   "metadata": {},
   "outputs": [
    {
     "name": "stdout",
     "output_type": "stream",
     "text": [
      "<class 'numpy.ndarray'>\n",
      "[[393 302  55  55]\n",
      " [613 298  59  59]\n",
      " [405 175  55  55]\n",
      " [664 180  55  55]\n",
      " [290 180  67  67]\n",
      " [445  46  54  54]\n",
      " [176 188  62  62]\n",
      " [574  64  54  54]\n",
      " [231 351  61  61]\n",
      " [  6 234  58  58]\n",
      " [ 79  73  50  50]\n",
      " [ 75 280  60  60]\n",
      " [  3  77  54  54]\n",
      " [241  81  58  58]\n",
      " [153  83  55  55]\n",
      " [464  79  61  61]\n",
      " [755 292  51  51]\n",
      " [511 291  58  58]\n",
      " [179 282  61  61]\n",
      " [673 108  59  59]\n",
      " [ 87 135  58  58]\n",
      " [358 152  52  52]]\n",
      "(22, 4)\n",
      "Number of faces detected: 22\n"
     ]
    }
   ],
   "source": [
    "import numpy as np\n",
    "import cv2\n",
    "\n",
    "#\n",
    "face_cascade = cv2.CascadeClassifier('haarcascade_frontalface_default.xml')\n",
    "# load image  \n",
    "image = cv2.imread('TeamIndia.JPG')\n",
    "# convert image to grayscale\n",
    "grayImage = cv2.cvtColor(image, cv2.COLOR_BGR2GRAY)\n",
    "# here we return the detected faces in numpy ndarray\n",
    "faces = face_cascade.detectMultiScale(grayImage)\n",
    "# here we will have n rows (number of faces detected) \n",
    "# with 4 column that is rectangle \n",
    "print(type(faces))\n",
    "# number of faces x 4(rectangle)\n",
    "print(faces)\n",
    "# number of faces detected\n",
    "print(faces.shape)\n",
    "print(\"Number of faces detected: \" + str(faces.shape[0]))\n",
    "\n",
    "# drawing green color rectangle in the original image \n",
    "for (x,y,w,h) in faces:\n",
    "    cv2.rectangle(image,(x,y),(x+w,y+h),(0,255,0),1)\n",
    "\n",
    "# display the image  \n",
    "cv2.imshow('TeamFaces',image)\n",
    "cv2.waitKey(0)\n",
    "cv2.destroyAllWindows()"
   ]
  },
  {
   "cell_type": "code",
   "execution_count": null,
   "metadata": {
    "collapsed": true
   },
   "outputs": [],
   "source": []
  },
  {
   "cell_type": "code",
   "execution_count": null,
   "metadata": {
    "collapsed": true
   },
   "outputs": [],
   "source": []
  },
  {
   "cell_type": "code",
   "execution_count": null,
   "metadata": {
    "collapsed": true
   },
   "outputs": [],
   "source": []
  }
 ],
 "metadata": {
  "kernelspec": {
   "display_name": "Python 3",
   "language": "python",
   "name": "python3"
  },
  "language_info": {
   "codemirror_mode": {
    "name": "ipython",
    "version": 3
   },
   "file_extension": ".py",
   "mimetype": "text/x-python",
   "name": "python",
   "nbconvert_exporter": "python",
   "pygments_lexer": "ipython3",
   "version": "3.6.3"
  }
 },
 "nbformat": 4,
 "nbformat_minor": 2
}
