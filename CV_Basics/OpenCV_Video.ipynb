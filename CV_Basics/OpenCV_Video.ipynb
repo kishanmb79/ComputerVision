{
 "cells": [
  {
   "cell_type": "code",
   "execution_count": 1,
   "metadata": {},
   "outputs": [],
   "source": [
    "import cv2"
   ]
  },
  {
   "cell_type": "markdown",
   "metadata": {},
   "source": [
    "# Loading and saving vedio files"
   ]
  },
  {
   "cell_type": "code",
   "execution_count": 4,
   "metadata": {},
   "outputs": [],
   "source": [
    "#\n",
    "cap = cv2.VideoCapture(0)\n",
    "\n",
    "width = int(cap.get(cv2.CAP_PROP_FRAME_WIDTH))\n",
    "height = int(cap.get(cv2.CAP_PROP_FRAME_HEIGHT))\n",
    "\n",
    "writer  = cv2.VideoWriter('myVideo.mp4',cv2.VideoWriter_fourcc(*'XVID'),20,(width,height))  \n",
    "\n",
    "while True:\n",
    "    ret, frame = cap.read()\n",
    "    \n",
    "    # after operation (draw) & object detection or tracking \n",
    "    writer.write(frame)\n",
    "    \n",
    "    # what you want to do with the frame \n",
    "    gray = cv2.cvtColor(frame, cv2.COLOR_BGR2GRAY)\n",
    "    #\n",
    "    \n",
    "    \n",
    "    cv2.imshow('gray_frame',gray)\n",
    "    cv2.imshow('real_frame',frame)\n",
    "    \n",
    "    if cv2.waitKey(1) & 0xFF == ord('q'):\n",
    "        break\n",
    "\n",
    "cap.release()\n",
    "writer.release()\n",
    "cv2.destroyAllWindows()"
   ]
  },
  {
   "cell_type": "markdown",
   "metadata": {},
   "source": [
    "# paly vedio files"
   ]
  },
  {
   "cell_type": "code",
   "execution_count": 7,
   "metadata": {},
   "outputs": [],
   "source": [
    "import cv2\n",
    "\n",
    "import time\n",
    "\n",
    "cap = cv2.VideoCapture('myVideo.mp4')\n",
    "\n",
    "# if vedio does not open \n",
    "if cap.isOpened() == False:\n",
    "    print('Error File not Found !')\n",
    "\n",
    "# while the vedio is playing \n",
    "while cap.isOpened():\n",
    "    ret, frame = cap.read()\n",
    "    \n",
    "    # if it is still returning and vedio is still playing \n",
    "    if ret == True:\n",
    "        \n",
    "        \n",
    "        # 20 FPS\n",
    "        time.sleep(1/20)\n",
    "        \n",
    "        \n",
    "        # then display the frame\n",
    "        cv2.imshow('frame',frame)\n",
    "        \n",
    "        # to quit out \n",
    "        if cv2.waitKey(10) & 0xFF == ord('q'):\n",
    "            break\n",
    "        \n",
    "    else :\n",
    "        break\n",
    "\n",
    "cap.release()\n",
    "cv2.destroyAllWindows()"
   ]
  },
  {
   "cell_type": "code",
   "execution_count": 8,
   "metadata": {},
   "outputs": [],
   "source": [
    "#"
   ]
  },
  {
   "cell_type": "markdown",
   "metadata": {},
   "source": [
    "# Draw on video"
   ]
  },
  {
   "cell_type": "code",
   "execution_count": 9,
   "metadata": {},
   "outputs": [],
   "source": [
    "#"
   ]
  },
  {
   "cell_type": "code",
   "execution_count": 1,
   "metadata": {},
   "outputs": [],
   "source": [
    "import cv2\n",
    "\n",
    "cap = cv2.VideoCapture(0)\n",
    "\n",
    "width  =  int(cap.get(cv2.CAP_PROP_FRAME_WIDTH))\n",
    "height =  int(cap.get(cv2.CAP_PROP_FRAME_HEIGHT))\n",
    "\n",
    "# Top right corner\n",
    "x = width // 2\n",
    "y = height // 2\n",
    "\n",
    "# width and height of rectangle \n",
    "w = width // 4\n",
    "h = height // 4\n",
    "\n",
    "# bottom right corner : x + w , y+h\n",
    "\n",
    "\n",
    "while True:\n",
    "    ret, frame = cap.read()\n",
    "    \n",
    "    cv2.rectangle(frame,(x,y),(x+w,y+h),color=(0,0,255),thickness=4) \n",
    "    \n",
    "    cv2.imshow('frame',frame)\n",
    "    \n",
    "    if cv2.waitKey(1) & 0xFF == ord('q'):\n",
    "        break\n",
    "\n",
    "cap.release()\n",
    "cv2.destroyAllWindows()"
   ]
  },
  {
   "cell_type": "code",
   "execution_count": 2,
   "metadata": {},
   "outputs": [],
   "source": [
    "#"
   ]
  },
  {
   "cell_type": "code",
   "execution_count": 4,
   "metadata": {},
   "outputs": [],
   "source": [
    "import cv2\n",
    "\n",
    "\n",
    "# callback function draw rectangle \n",
    "def draw_rectangle(event,x,y,flags,param):\n",
    "    \n",
    "    global pt1, pt2, topLeft_click, bottomRight_click\n",
    "    \n",
    "    if event == cv2.EVENT_LBUTTONDOWN:\n",
    "        \n",
    "        # reset the rectangle ()\n",
    "        if topLeft_click == True and bottomRight_click == True:\n",
    "            pt1 = (0,0)\n",
    "            pt2 = (0,0)\n",
    "            topLeft_click = False\n",
    "            bottomRight_click = False\n",
    "        \n",
    "        # since we rest, the topLeft_click is false\n",
    "        # so we check for pt1 again from callback \n",
    "        # then we update that we have clicked \n",
    "        # note that we are now assigning that it is True\n",
    "        if topLeft_click == False:\n",
    "            pt1 = (x,y)\n",
    "            topLeft_click = True\n",
    "            # hence we have define pt1 now\n",
    "        \n",
    "        elif bottomRight_click == False:\n",
    "            pt2 = (x,y)\n",
    "            bottomRight_click = True\n",
    "\n",
    "            \n",
    "# global variable \n",
    "pt1 = (0,0)\n",
    "pt2 = (0,0)\n",
    "topLeft_click = False\n",
    "bottomRight_click = False\n",
    "\n",
    "# connect to the callback \n",
    "\n",
    "cap = cv2.VideoCapture(0)\n",
    "\n",
    "cv2.namedWindow('Test')\n",
    "cv2.setMouseCallback('Test', draw_rectangle)\n",
    "\n",
    "\n",
    "\n",
    "while True:\n",
    "    ret, frame = cap.read()\n",
    "    \n",
    "    \n",
    "    # drawing on the frame based off the global variables \n",
    "    if topLeft_click == True :\n",
    "        cv2.circle(frame,center=pt1,radius=5,color=(0,0,255),thickness=-1) \n",
    "    \n",
    "    # note pt1 circle is just a place hold\n",
    "    # and both pt1 and pt2 are define in rectangle \n",
    "    # \n",
    "    \n",
    "    if topLeft_click and bottomRight_click == True :\n",
    "        cv2.rectangle(frame, pt1,pt2,(0,0,255),3)\n",
    "    \n",
    "    cv2.imshow('Test',frame)\n",
    "    \n",
    "    if cv2.waitKey(1) & 0xFF == ord('q'):\n",
    "        break\n",
    "\n",
    "cap.release()\n",
    "cv2.destroyAllWindows()"
   ]
  },
  {
   "cell_type": "code",
   "execution_count": null,
   "metadata": {},
   "outputs": [],
   "source": []
  }
 ],
 "metadata": {
  "kernelspec": {
   "display_name": "Python 3",
   "language": "python",
   "name": "python3"
  },
  "language_info": {
   "codemirror_mode": {
    "name": "ipython",
    "version": 3
   },
   "file_extension": ".py",
   "mimetype": "text/x-python",
   "name": "python",
   "nbconvert_exporter": "python",
   "pygments_lexer": "ipython3",
   "version": "3.6.8"
  }
 },
 "nbformat": 4,
 "nbformat_minor": 2
}
